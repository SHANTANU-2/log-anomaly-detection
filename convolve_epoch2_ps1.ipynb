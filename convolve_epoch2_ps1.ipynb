{
 "cells": [
  {
   "cell_type": "code",
   "execution_count": 1,
   "id": "04b3a736",
   "metadata": {},
   "outputs": [],
   "source": [
    "import pandas as pd\n",
    "import numpy as np\n",
    "import matplotlib.pyplot as plt\n",
    "import seaborn as sns\n",
    "%matplotlib inline"
   ]
  },
  {
   "cell_type": "code",
   "execution_count": 5,
   "id": "7a482d3d",
   "metadata": {},
   "outputs": [],
   "source": [
    "df = pd.read_csv(r\"C:\\Users\\user\\OneDrive - iitkgp.ac.in\\Documents\\Convolve_cisco\\PLID_Bookings_Problem1.csv\")"
   ]
  },
  {
   "cell_type": "code",
   "execution_count": 21,
   "id": "82376253",
   "metadata": {},
   "outputs": [
    {
     "data": {
      "text/html": [
       "<div>\n",
       "<style scoped>\n",
       "    .dataframe tbody tr th:only-of-type {\n",
       "        vertical-align: middle;\n",
       "    }\n",
       "\n",
       "    .dataframe tbody tr th {\n",
       "        vertical-align: top;\n",
       "    }\n",
       "\n",
       "    .dataframe thead th {\n",
       "        text-align: right;\n",
       "    }\n",
       "</style>\n",
       "<table border=\"1\" class=\"dataframe\">\n",
       "  <thead>\n",
       "    <tr style=\"text-align: right;\">\n",
       "      <th></th>\n",
       "      <th>Business Unit</th>\n",
       "      <th>Product Family</th>\n",
       "      <th>PLID</th>\n",
       "      <th>Fiscal Quarter</th>\n",
       "      <th>Fiscal Month</th>\n",
       "      <th>Booked_Qty</th>\n",
       "      <th>Booking_Date</th>\n",
       "    </tr>\n",
       "  </thead>\n",
       "  <tbody>\n",
       "    <tr>\n",
       "      <th>0</th>\n",
       "      <td>CSWBU</td>\n",
       "      <td>CBR8</td>\n",
       "      <td>CBR-D121-DS-MOD</td>\n",
       "      <td>Q1 FY2022</td>\n",
       "      <td>AUG FY2022</td>\n",
       "      <td>204</td>\n",
       "      <td>01-08-2016</td>\n",
       "    </tr>\n",
       "    <tr>\n",
       "      <th>1</th>\n",
       "      <td>CSWBU</td>\n",
       "      <td>CBR8</td>\n",
       "      <td>CBR-D121-DS-MOD</td>\n",
       "      <td>Q1 FY2022</td>\n",
       "      <td>OCT FY2022</td>\n",
       "      <td>564</td>\n",
       "      <td>01-10-2016</td>\n",
       "    </tr>\n",
       "    <tr>\n",
       "      <th>2</th>\n",
       "      <td>CSWBU</td>\n",
       "      <td>CBR8</td>\n",
       "      <td>CBR-D121-DS-MOD</td>\n",
       "      <td>Q1 FY2022</td>\n",
       "      <td>SEP FY2022</td>\n",
       "      <td>1476</td>\n",
       "      <td>01-09-2016</td>\n",
       "    </tr>\n",
       "    <tr>\n",
       "      <th>3</th>\n",
       "      <td>CSWBU</td>\n",
       "      <td>CBR8</td>\n",
       "      <td>CBR-D121-DS-MOD</td>\n",
       "      <td>Q1 FY2002</td>\n",
       "      <td>AUG FY2002</td>\n",
       "      <td>374</td>\n",
       "      <td>01-08-2017</td>\n",
       "    </tr>\n",
       "    <tr>\n",
       "      <th>4</th>\n",
       "      <td>CSWBU</td>\n",
       "      <td>CBR8</td>\n",
       "      <td>CBR-D121-DS-MOD</td>\n",
       "      <td>Q1 FY2002</td>\n",
       "      <td>OCT FY2002</td>\n",
       "      <td>6094</td>\n",
       "      <td>01-10-2017</td>\n",
       "    </tr>\n",
       "    <tr>\n",
       "      <th>...</th>\n",
       "      <td>...</td>\n",
       "      <td>...</td>\n",
       "      <td>...</td>\n",
       "      <td>...</td>\n",
       "      <td>...</td>\n",
       "      <td>...</td>\n",
       "      <td>...</td>\n",
       "    </tr>\n",
       "    <tr>\n",
       "      <th>56</th>\n",
       "      <td>CSWBU</td>\n",
       "      <td>CBR8</td>\n",
       "      <td>CBR-D121-DS-MOD</td>\n",
       "      <td>Q3 FY2011</td>\n",
       "      <td>MAR FY2011</td>\n",
       "      <td>164</td>\n",
       "      <td>01-03-2020</td>\n",
       "    </tr>\n",
       "    <tr>\n",
       "      <th>57</th>\n",
       "      <td>CSWBU</td>\n",
       "      <td>CBR8</td>\n",
       "      <td>CBR-D121-DS-MOD</td>\n",
       "      <td>Q3 FY2012</td>\n",
       "      <td>APR FY2012</td>\n",
       "      <td>436</td>\n",
       "      <td>01-04-2021</td>\n",
       "    </tr>\n",
       "    <tr>\n",
       "      <th>58</th>\n",
       "      <td>CSWBU</td>\n",
       "      <td>CBR8</td>\n",
       "      <td>CBR-D121-DS-MOD</td>\n",
       "      <td>Q3 FY2012</td>\n",
       "      <td>FEB FY2012</td>\n",
       "      <td>110</td>\n",
       "      <td>01-02-2021</td>\n",
       "    </tr>\n",
       "    <tr>\n",
       "      <th>59</th>\n",
       "      <td>CSWBU</td>\n",
       "      <td>CBR8</td>\n",
       "      <td>CBR-D121-DS-MOD</td>\n",
       "      <td>Q3 FY2012</td>\n",
       "      <td>MAR FY2012</td>\n",
       "      <td>917</td>\n",
       "      <td>01-03-2021</td>\n",
       "    </tr>\n",
       "    <tr>\n",
       "      <th>60</th>\n",
       "      <td>CSWBU</td>\n",
       "      <td>CBR8</td>\n",
       "      <td>CBR-D121-DS-MOD</td>\n",
       "      <td>Q4 FY2015</td>\n",
       "      <td>JUL FY2015</td>\n",
       "      <td>2092</td>\n",
       "      <td>01-07-2015</td>\n",
       "    </tr>\n",
       "  </tbody>\n",
       "</table>\n",
       "<p>61 rows × 7 columns</p>\n",
       "</div>"
      ],
      "text/plain": [
       "   Business Unit Product Family             PLID Fiscal Quarter Fiscal Month  \\\n",
       "0          CSWBU           CBR8  CBR-D121-DS-MOD      Q1 FY2022   AUG FY2022   \n",
       "1          CSWBU           CBR8  CBR-D121-DS-MOD      Q1 FY2022   OCT FY2022   \n",
       "2          CSWBU           CBR8  CBR-D121-DS-MOD      Q1 FY2022   SEP FY2022   \n",
       "3          CSWBU           CBR8  CBR-D121-DS-MOD      Q1 FY2002   AUG FY2002   \n",
       "4          CSWBU           CBR8  CBR-D121-DS-MOD      Q1 FY2002   OCT FY2002   \n",
       "..           ...            ...              ...            ...          ...   \n",
       "56         CSWBU           CBR8  CBR-D121-DS-MOD      Q3 FY2011   MAR FY2011   \n",
       "57         CSWBU           CBR8  CBR-D121-DS-MOD      Q3 FY2012   APR FY2012   \n",
       "58         CSWBU           CBR8  CBR-D121-DS-MOD      Q3 FY2012   FEB FY2012   \n",
       "59         CSWBU           CBR8  CBR-D121-DS-MOD      Q3 FY2012   MAR FY2012   \n",
       "60         CSWBU           CBR8  CBR-D121-DS-MOD      Q4 FY2015   JUL FY2015   \n",
       "\n",
       "    Booked_Qty Booking_Date  \n",
       "0          204   01-08-2016  \n",
       "1          564   01-10-2016  \n",
       "2         1476   01-09-2016  \n",
       "3          374   01-08-2017  \n",
       "4         6094   01-10-2017  \n",
       "..         ...          ...  \n",
       "56         164   01-03-2020  \n",
       "57         436   01-04-2021  \n",
       "58         110   01-02-2021  \n",
       "59         917   01-03-2021  \n",
       "60        2092   01-07-2015  \n",
       "\n",
       "[61 rows x 7 columns]"
      ]
     },
     "execution_count": 21,
     "metadata": {},
     "output_type": "execute_result"
    }
   ],
   "source": [
    "df.head(61)"
   ]
  },
  {
   "cell_type": "code",
   "execution_count": 10,
   "id": "8c6f8843",
   "metadata": {
    "collapsed": true
   },
   "outputs": [
    {
     "data": {
      "text/html": [
       "<div>\n",
       "<style scoped>\n",
       "    .dataframe tbody tr th:only-of-type {\n",
       "        vertical-align: middle;\n",
       "    }\n",
       "\n",
       "    .dataframe tbody tr th {\n",
       "        vertical-align: top;\n",
       "    }\n",
       "\n",
       "    .dataframe thead th {\n",
       "        text-align: right;\n",
       "    }\n",
       "</style>\n",
       "<table border=\"1\" class=\"dataframe\">\n",
       "  <thead>\n",
       "    <tr style=\"text-align: right;\">\n",
       "      <th></th>\n",
       "      <th>Business Unit</th>\n",
       "      <th>Product Family</th>\n",
       "      <th>PLID</th>\n",
       "      <th>Fiscal Quarter</th>\n",
       "      <th>Fiscal Month</th>\n",
       "      <th>Booked_Qty</th>\n",
       "      <th>Booking_Date</th>\n",
       "    </tr>\n",
       "  </thead>\n",
       "  <tbody>\n",
       "    <tr>\n",
       "      <th>10991</th>\n",
       "      <td>RTOBU</td>\n",
       "      <td>C980040</td>\n",
       "      <td>C9800-40-K9</td>\n",
       "      <td>Q4 FY2011</td>\n",
       "      <td>JUN FY2011</td>\n",
       "      <td>229</td>\n",
       "      <td>01-06-2020</td>\n",
       "    </tr>\n",
       "    <tr>\n",
       "      <th>10992</th>\n",
       "      <td>RTOBU</td>\n",
       "      <td>C980040</td>\n",
       "      <td>C9800-40-K9</td>\n",
       "      <td>Q4 FY2011</td>\n",
       "      <td>MAY FY2011</td>\n",
       "      <td>289</td>\n",
       "      <td>01-05-2020</td>\n",
       "    </tr>\n",
       "    <tr>\n",
       "      <th>10993</th>\n",
       "      <td>RTOBU</td>\n",
       "      <td>C980040</td>\n",
       "      <td>C9800-40-K9</td>\n",
       "      <td>Q4 FY2012</td>\n",
       "      <td>JUL FY2012</td>\n",
       "      <td>1231</td>\n",
       "      <td>01-07-2021</td>\n",
       "    </tr>\n",
       "    <tr>\n",
       "      <th>10994</th>\n",
       "      <td>RTOBU</td>\n",
       "      <td>C980040</td>\n",
       "      <td>C9800-40-K9</td>\n",
       "      <td>Q4 FY2012</td>\n",
       "      <td>JUN FY2012</td>\n",
       "      <td>591</td>\n",
       "      <td>01-06-2021</td>\n",
       "    </tr>\n",
       "    <tr>\n",
       "      <th>10995</th>\n",
       "      <td>RTOBU</td>\n",
       "      <td>C980040</td>\n",
       "      <td>C9800-40-K9</td>\n",
       "      <td>Q4 FY2012</td>\n",
       "      <td>MAY FY2012</td>\n",
       "      <td>601</td>\n",
       "      <td>01-05-2021</td>\n",
       "    </tr>\n",
       "  </tbody>\n",
       "</table>\n",
       "</div>"
      ],
      "text/plain": [
       "      Business Unit Product Family         PLID Fiscal Quarter Fiscal Month  \\\n",
       "10991         RTOBU        C980040  C9800-40-K9      Q4 FY2011   JUN FY2011   \n",
       "10992         RTOBU        C980040  C9800-40-K9      Q4 FY2011   MAY FY2011   \n",
       "10993         RTOBU        C980040  C9800-40-K9      Q4 FY2012   JUL FY2012   \n",
       "10994         RTOBU        C980040  C9800-40-K9      Q4 FY2012   JUN FY2012   \n",
       "10995         RTOBU        C980040  C9800-40-K9      Q4 FY2012   MAY FY2012   \n",
       "\n",
       "       Booked_Qty Booking_Date  \n",
       "10991         229   01-06-2020  \n",
       "10992         289   01-05-2020  \n",
       "10993        1231   01-07-2021  \n",
       "10994         591   01-06-2021  \n",
       "10995         601   01-05-2021  "
      ]
     },
     "execution_count": 10,
     "metadata": {},
     "output_type": "execute_result"
    }
   ],
   "source": [
    "df.tail()"
   ]
  },
  {
   "cell_type": "code",
   "execution_count": 24,
   "id": "1344db50",
   "metadata": {
    "collapsed": true
   },
   "outputs": [
    {
     "data": {
      "text/html": [
       "<div>\n",
       "<style scoped>\n",
       "    .dataframe tbody tr th:only-of-type {\n",
       "        vertical-align: middle;\n",
       "    }\n",
       "\n",
       "    .dataframe tbody tr th {\n",
       "        vertical-align: top;\n",
       "    }\n",
       "\n",
       "    .dataframe thead th {\n",
       "        text-align: right;\n",
       "    }\n",
       "</style>\n",
       "<table border=\"1\" class=\"dataframe\">\n",
       "  <thead>\n",
       "    <tr style=\"text-align: right;\">\n",
       "      <th></th>\n",
       "      <th>Business Unit</th>\n",
       "      <th>Product Family</th>\n",
       "      <th>PLID</th>\n",
       "      <th>Fiscal Quarter</th>\n",
       "      <th>Fiscal Month</th>\n",
       "      <th>Booked_Qty</th>\n",
       "      <th>Booking_Date</th>\n",
       "    </tr>\n",
       "  </thead>\n",
       "  <tbody>\n",
       "    <tr>\n",
       "      <th>3335</th>\n",
       "      <td>ERBU</td>\n",
       "      <td>A9K9KFM</td>\n",
       "      <td>A9K-RSP880-SE</td>\n",
       "      <td>Q4 FY2015</td>\n",
       "      <td>JUL FY2015</td>\n",
       "      <td>22</td>\n",
       "      <td>01-07-2015</td>\n",
       "    </tr>\n",
       "    <tr>\n",
       "      <th>3336</th>\n",
       "      <td>ERBU</td>\n",
       "      <td>A9K9KFM</td>\n",
       "      <td>A9K-RSP880-SE</td>\n",
       "      <td>Q4 FY2015</td>\n",
       "      <td>JUN FY2015</td>\n",
       "      <td>20</td>\n",
       "      <td>01-06-2015</td>\n",
       "    </tr>\n",
       "    <tr>\n",
       "      <th>3337</th>\n",
       "      <td>ERBU</td>\n",
       "      <td>A9K9KFM</td>\n",
       "      <td>A9K-RSP880-SE</td>\n",
       "      <td>Q4 FY2015</td>\n",
       "      <td>MAY FY2015</td>\n",
       "      <td>9</td>\n",
       "      <td>01-05-2015</td>\n",
       "    </tr>\n",
       "    <tr>\n",
       "      <th>3338</th>\n",
       "      <td>ERBU</td>\n",
       "      <td>A9K9KFM</td>\n",
       "      <td>A9K-RSP880-SE</td>\n",
       "      <td>Q4 FY2022</td>\n",
       "      <td>JUL FY2022</td>\n",
       "      <td>214</td>\n",
       "      <td>01-07-2016</td>\n",
       "    </tr>\n",
       "    <tr>\n",
       "      <th>3339</th>\n",
       "      <td>ERBU</td>\n",
       "      <td>A9K9KFM</td>\n",
       "      <td>A9K-RSP880-SE</td>\n",
       "      <td>Q4 FY2022</td>\n",
       "      <td>JUN FY2022</td>\n",
       "      <td>204</td>\n",
       "      <td>01-06-2016</td>\n",
       "    </tr>\n",
       "    <tr>\n",
       "      <th>...</th>\n",
       "      <td>...</td>\n",
       "      <td>...</td>\n",
       "      <td>...</td>\n",
       "      <td>...</td>\n",
       "      <td>...</td>\n",
       "      <td>...</td>\n",
       "      <td>...</td>\n",
       "    </tr>\n",
       "    <tr>\n",
       "      <th>3416</th>\n",
       "      <td>ERBU</td>\n",
       "      <td>A9K9KFM</td>\n",
       "      <td>A9K-RSP880-TR</td>\n",
       "      <td>Q3 FY2011</td>\n",
       "      <td>MAR FY2011</td>\n",
       "      <td>92</td>\n",
       "      <td>01-03-2020</td>\n",
       "    </tr>\n",
       "    <tr>\n",
       "      <th>3417</th>\n",
       "      <td>ERBU</td>\n",
       "      <td>A9K9KFM</td>\n",
       "      <td>A9K-RSP880-TR</td>\n",
       "      <td>Q3 FY2012</td>\n",
       "      <td>APR FY2012</td>\n",
       "      <td>48</td>\n",
       "      <td>01-04-2021</td>\n",
       "    </tr>\n",
       "    <tr>\n",
       "      <th>3418</th>\n",
       "      <td>ERBU</td>\n",
       "      <td>A9K9KFM</td>\n",
       "      <td>A9K-RSP880-TR</td>\n",
       "      <td>Q3 FY2012</td>\n",
       "      <td>FEB FY2012</td>\n",
       "      <td>66</td>\n",
       "      <td>01-02-2021</td>\n",
       "    </tr>\n",
       "    <tr>\n",
       "      <th>3419</th>\n",
       "      <td>ERBU</td>\n",
       "      <td>A9K9KFM</td>\n",
       "      <td>A9K-RSP880-TR</td>\n",
       "      <td>Q3 FY2012</td>\n",
       "      <td>MAR FY2012</td>\n",
       "      <td>107</td>\n",
       "      <td>01-03-2021</td>\n",
       "    </tr>\n",
       "    <tr>\n",
       "      <th>3420</th>\n",
       "      <td>ERBU</td>\n",
       "      <td>A9K9KFM</td>\n",
       "      <td>A9K-RSP880-TR</td>\n",
       "      <td>Q4 FY2015</td>\n",
       "      <td>JUL FY2015</td>\n",
       "      <td>61</td>\n",
       "      <td>01-07-2015</td>\n",
       "    </tr>\n",
       "  </tbody>\n",
       "</table>\n",
       "<p>86 rows × 7 columns</p>\n",
       "</div>"
      ],
      "text/plain": [
       "     Business Unit Product Family           PLID Fiscal Quarter Fiscal Month  \\\n",
       "3335          ERBU        A9K9KFM  A9K-RSP880-SE      Q4 FY2015   JUL FY2015   \n",
       "3336          ERBU        A9K9KFM  A9K-RSP880-SE      Q4 FY2015   JUN FY2015   \n",
       "3337          ERBU        A9K9KFM  A9K-RSP880-SE      Q4 FY2015   MAY FY2015   \n",
       "3338          ERBU        A9K9KFM  A9K-RSP880-SE      Q4 FY2022   JUL FY2022   \n",
       "3339          ERBU        A9K9KFM  A9K-RSP880-SE      Q4 FY2022   JUN FY2022   \n",
       "...            ...            ...            ...            ...          ...   \n",
       "3416          ERBU        A9K9KFM  A9K-RSP880-TR      Q3 FY2011   MAR FY2011   \n",
       "3417          ERBU        A9K9KFM  A9K-RSP880-TR      Q3 FY2012   APR FY2012   \n",
       "3418          ERBU        A9K9KFM  A9K-RSP880-TR      Q3 FY2012   FEB FY2012   \n",
       "3419          ERBU        A9K9KFM  A9K-RSP880-TR      Q3 FY2012   MAR FY2012   \n",
       "3420          ERBU        A9K9KFM  A9K-RSP880-TR      Q4 FY2015   JUL FY2015   \n",
       "\n",
       "      Booked_Qty Booking_Date  \n",
       "3335          22   01-07-2015  \n",
       "3336          20   01-06-2015  \n",
       "3337           9   01-05-2015  \n",
       "3338         214   01-07-2016  \n",
       "3339         204   01-06-2016  \n",
       "...          ...          ...  \n",
       "3416          92   01-03-2020  \n",
       "3417          48   01-04-2021  \n",
       "3418          66   01-02-2021  \n",
       "3419         107   01-03-2021  \n",
       "3420          61   01-07-2015  \n",
       "\n",
       "[86 rows x 7 columns]"
      ]
     },
     "execution_count": 24,
     "metadata": {},
     "output_type": "execute_result"
    }
   ],
   "source": [
    "df.loc[3335:3420,: ]"
   ]
  },
  {
   "cell_type": "code",
   "execution_count": 7,
   "id": "aa2c853d",
   "metadata": {},
   "outputs": [
    {
     "data": {
      "text/plain": [
       "(10996, 7)"
      ]
     },
     "execution_count": 7,
     "metadata": {},
     "output_type": "execute_result"
    }
   ],
   "source": [
    "df.shape"
   ]
  },
  {
   "cell_type": "code",
   "execution_count": 15,
   "id": "9701304e",
   "metadata": {},
   "outputs": [
    {
     "data": {
      "text/plain": [
       "'01-12-2022'"
      ]
     },
     "execution_count": 15,
     "metadata": {},
     "output_type": "execute_result"
    }
   ],
   "source": [
    "max(df['Booking_Date'])"
   ]
  },
  {
   "cell_type": "code",
   "execution_count": 8,
   "id": "07ea7394",
   "metadata": {},
   "outputs": [],
   "source": [
    "col = []\n",
    "def unicol(col):\n",
    "    #print(f'number of unique {col} : {df[col].unique()}')\n",
    "    print(f'number of unique {col} : {df[col].nunique()}')\n",
    "    print('-------------------------')"
   ]
  },
  {
   "cell_type": "code",
   "execution_count": 9,
   "id": "3095b274",
   "metadata": {},
   "outputs": [
    {
     "name": "stdout",
     "output_type": "stream",
     "text": [
      "number of unique Business Unit : 18\n",
      "-------------------------\n",
      "number of unique Product Family : 73\n",
      "-------------------------\n",
      "number of unique PLID : 250\n",
      "-------------------------\n",
      "number of unique Fiscal Quarter : 36\n",
      "-------------------------\n",
      "number of unique Fiscal Month : 108\n",
      "-------------------------\n",
      "number of unique Booked_Qty : 5114\n",
      "-------------------------\n",
      "number of unique Booking_Date : 114\n",
      "-------------------------\n"
     ]
    }
   ],
   "source": [
    "for col in df.columns:\n",
    "    unicol(col)"
   ]
  },
  {
   "cell_type": "code",
   "execution_count": 14,
   "id": "86b50b0c",
   "metadata": {},
   "outputs": [
    {
     "data": {
      "text/plain": [
       "array(['CSWBU', 'CPBU', 'CRBU', 'CSA', 'CVEBU', 'EBBU', 'ECBU', 'ERBU',\n",
       "       'QKBU', 'IOTBU', 'NGFWBU', 'OTBU', 'BATBU', 'SRSBU', 'TOASTBU',\n",
       "       'UOPBLRBU', 'UCEBU', 'RTOBU'], dtype=object)"
      ]
     },
     "execution_count": 14,
     "metadata": {},
     "output_type": "execute_result"
    }
   ],
   "source": [
    "df['Business Unit'].unique()"
   ]
  },
  {
   "cell_type": "code",
   "execution_count": 99,
   "id": "5fd4b1e0",
   "metadata": {},
   "outputs": [
    {
     "data": {
      "text/plain": [
       "Business Unit  Product Family  PLID   Booked_Qty  Booking_Date  f_y    q      fiscal_month\n",
       "False          False           False  False       False         False  False  False           10996\n",
       "dtype: int64"
      ]
     },
     "execution_count": 99,
     "metadata": {},
     "output_type": "execute_result"
    }
   ],
   "source": [
    "df.isnull().value_counts()"
   ]
  },
  {
   "cell_type": "code",
   "execution_count": 51,
   "id": "7f9ed951",
   "metadata": {},
   "outputs": [
    {
     "data": {
      "text/plain": [
       "(10996, 8)"
      ]
     },
     "execution_count": 51,
     "metadata": {},
     "output_type": "execute_result"
    }
   ],
   "source": [
    "df.shape"
   ]
  },
  {
   "cell_type": "code",
   "execution_count": 29,
   "id": "b31c0d20",
   "metadata": {},
   "outputs": [
    {
     "data": {
      "text/plain": [
       "Business Unit     object\n",
       "Product Family    object\n",
       "PLID              object\n",
       "Fiscal Quarter    object\n",
       "Fiscal Month      object\n",
       "Booked_Qty         int64\n",
       "Booking_Date      object\n",
       "f_y               object\n",
       "dtype: object"
      ]
     },
     "execution_count": 29,
     "metadata": {},
     "output_type": "execute_result"
    }
   ],
   "source": [
    "df.dtypes"
   ]
  },
  {
   "cell_type": "code",
   "execution_count": 34,
   "id": "248410e7",
   "metadata": {},
   "outputs": [],
   "source": [
    "df['f_y'] = df['Fiscal Quarter'].str.replace('Q4 FY','').str.replace('Q3 FY','').str.replace('Q2 FY','').str.replace('Q1 FY','')"
   ]
  },
  {
   "cell_type": "code",
   "execution_count": 38,
   "id": "42caee97",
   "metadata": {},
   "outputs": [],
   "source": [
    "df['f_y'] = df['f_y'].astype('int32')"
   ]
  },
  {
   "cell_type": "code",
   "execution_count": 39,
   "id": "ddb72f22",
   "metadata": {},
   "outputs": [
    {
     "data": {
      "text/html": [
       "<div>\n",
       "<style scoped>\n",
       "    .dataframe tbody tr th:only-of-type {\n",
       "        vertical-align: middle;\n",
       "    }\n",
       "\n",
       "    .dataframe tbody tr th {\n",
       "        vertical-align: top;\n",
       "    }\n",
       "\n",
       "    .dataframe thead th {\n",
       "        text-align: right;\n",
       "    }\n",
       "</style>\n",
       "<table border=\"1\" class=\"dataframe\">\n",
       "  <thead>\n",
       "    <tr style=\"text-align: right;\">\n",
       "      <th></th>\n",
       "      <th>Business Unit</th>\n",
       "      <th>Product Family</th>\n",
       "      <th>PLID</th>\n",
       "      <th>Fiscal Quarter</th>\n",
       "      <th>Fiscal Month</th>\n",
       "      <th>Booked_Qty</th>\n",
       "      <th>Booking_Date</th>\n",
       "      <th>f_y</th>\n",
       "    </tr>\n",
       "  </thead>\n",
       "  <tbody>\n",
       "    <tr>\n",
       "      <th>0</th>\n",
       "      <td>CSWBU</td>\n",
       "      <td>CBR8</td>\n",
       "      <td>CBR-D121-DS-MOD</td>\n",
       "      <td>Q1 FY2022</td>\n",
       "      <td>AUG FY2022</td>\n",
       "      <td>204</td>\n",
       "      <td>01-08-2016</td>\n",
       "      <td>2022</td>\n",
       "    </tr>\n",
       "    <tr>\n",
       "      <th>1</th>\n",
       "      <td>CSWBU</td>\n",
       "      <td>CBR8</td>\n",
       "      <td>CBR-D121-DS-MOD</td>\n",
       "      <td>Q1 FY2022</td>\n",
       "      <td>OCT FY2022</td>\n",
       "      <td>564</td>\n",
       "      <td>01-10-2016</td>\n",
       "      <td>2022</td>\n",
       "    </tr>\n",
       "    <tr>\n",
       "      <th>2</th>\n",
       "      <td>CSWBU</td>\n",
       "      <td>CBR8</td>\n",
       "      <td>CBR-D121-DS-MOD</td>\n",
       "      <td>Q1 FY2022</td>\n",
       "      <td>SEP FY2022</td>\n",
       "      <td>1476</td>\n",
       "      <td>01-09-2016</td>\n",
       "      <td>2022</td>\n",
       "    </tr>\n",
       "    <tr>\n",
       "      <th>3</th>\n",
       "      <td>CSWBU</td>\n",
       "      <td>CBR8</td>\n",
       "      <td>CBR-D121-DS-MOD</td>\n",
       "      <td>Q1 FY2002</td>\n",
       "      <td>AUG FY2002</td>\n",
       "      <td>374</td>\n",
       "      <td>01-08-2017</td>\n",
       "      <td>2002</td>\n",
       "    </tr>\n",
       "    <tr>\n",
       "      <th>4</th>\n",
       "      <td>CSWBU</td>\n",
       "      <td>CBR8</td>\n",
       "      <td>CBR-D121-DS-MOD</td>\n",
       "      <td>Q1 FY2002</td>\n",
       "      <td>OCT FY2002</td>\n",
       "      <td>6094</td>\n",
       "      <td>01-10-2017</td>\n",
       "      <td>2002</td>\n",
       "    </tr>\n",
       "  </tbody>\n",
       "</table>\n",
       "</div>"
      ],
      "text/plain": [
       "  Business Unit Product Family             PLID Fiscal Quarter Fiscal Month  \\\n",
       "0         CSWBU           CBR8  CBR-D121-DS-MOD      Q1 FY2022   AUG FY2022   \n",
       "1         CSWBU           CBR8  CBR-D121-DS-MOD      Q1 FY2022   OCT FY2022   \n",
       "2         CSWBU           CBR8  CBR-D121-DS-MOD      Q1 FY2022   SEP FY2022   \n",
       "3         CSWBU           CBR8  CBR-D121-DS-MOD      Q1 FY2002   AUG FY2002   \n",
       "4         CSWBU           CBR8  CBR-D121-DS-MOD      Q1 FY2002   OCT FY2002   \n",
       "\n",
       "   Booked_Qty Booking_Date   f_y  \n",
       "0         204   01-08-2016  2022  \n",
       "1         564   01-10-2016  2022  \n",
       "2        1476   01-09-2016  2022  \n",
       "3         374   01-08-2017  2002  \n",
       "4        6094   01-10-2017  2002  "
      ]
     },
     "execution_count": 39,
     "metadata": {},
     "output_type": "execute_result"
    }
   ],
   "source": [
    "df.head()"
   ]
  },
  {
   "cell_type": "code",
   "execution_count": 43,
   "id": "e7bb69d8",
   "metadata": {},
   "outputs": [],
   "source": [
    "import re\n",
    "pattern = 'Q\\d'\n",
    "match = re.findall(pattern,'Q1 FY2002' )"
   ]
  },
  {
   "cell_type": "code",
   "execution_count": 44,
   "id": "e8c8019f",
   "metadata": {},
   "outputs": [
    {
     "data": {
      "text/plain": [
       "['Q1']"
      ]
     },
     "execution_count": 44,
     "metadata": {},
     "output_type": "execute_result"
    }
   ],
   "source": [
    "match"
   ]
  },
  {
   "cell_type": "code",
   "execution_count": 47,
   "id": "b9c089ea",
   "metadata": {},
   "outputs": [],
   "source": [
    "l = df['Fiscal Quarter'].to_list()"
   ]
  },
  {
   "cell_type": "code",
   "execution_count": 58,
   "id": "01bb5e73",
   "metadata": {},
   "outputs": [
    {
     "data": {
      "text/plain": [
       "'Q1 FY2022'"
      ]
     },
     "execution_count": 58,
     "metadata": {},
     "output_type": "execute_result"
    }
   ],
   "source": [
    "l[0]"
   ]
  },
  {
   "cell_type": "code",
   "execution_count": 52,
   "id": "70fc131b",
   "metadata": {},
   "outputs": [],
   "source": [
    "pattern = 'Q\\d'\n",
    "app = []\n",
    "for i in range(0,10996):\n",
    "    match1 = re.findall(pattern,l[i])\n",
    "    app.append(match1)\n",
    "    "
   ]
  },
  {
   "cell_type": "code",
   "execution_count": 62,
   "id": "f06fc872",
   "metadata": {},
   "outputs": [],
   "source": [
    "flat_arr = np. reshape(app,10996 )"
   ]
  },
  {
   "cell_type": "code",
   "execution_count": 63,
   "id": "806228c4",
   "metadata": {},
   "outputs": [
    {
     "data": {
      "text/plain": [
       "array(['Q1', 'Q1', 'Q1', ..., 'Q4', 'Q4', 'Q4'], dtype='<U2')"
      ]
     },
     "execution_count": 63,
     "metadata": {},
     "output_type": "execute_result"
    }
   ],
   "source": [
    "flat_arr"
   ]
  },
  {
   "cell_type": "code",
   "execution_count": 64,
   "id": "df97221a",
   "metadata": {},
   "outputs": [],
   "source": [
    "df['q'] = flat_arr"
   ]
  },
  {
   "cell_type": "code",
   "execution_count": 65,
   "id": "cef51b87",
   "metadata": {},
   "outputs": [
    {
     "data": {
      "text/html": [
       "<div>\n",
       "<style scoped>\n",
       "    .dataframe tbody tr th:only-of-type {\n",
       "        vertical-align: middle;\n",
       "    }\n",
       "\n",
       "    .dataframe tbody tr th {\n",
       "        vertical-align: top;\n",
       "    }\n",
       "\n",
       "    .dataframe thead th {\n",
       "        text-align: right;\n",
       "    }\n",
       "</style>\n",
       "<table border=\"1\" class=\"dataframe\">\n",
       "  <thead>\n",
       "    <tr style=\"text-align: right;\">\n",
       "      <th></th>\n",
       "      <th>Business Unit</th>\n",
       "      <th>Product Family</th>\n",
       "      <th>PLID</th>\n",
       "      <th>Fiscal Quarter</th>\n",
       "      <th>Fiscal Month</th>\n",
       "      <th>Booked_Qty</th>\n",
       "      <th>Booking_Date</th>\n",
       "      <th>f_y</th>\n",
       "      <th>q</th>\n",
       "    </tr>\n",
       "  </thead>\n",
       "  <tbody>\n",
       "    <tr>\n",
       "      <th>0</th>\n",
       "      <td>CSWBU</td>\n",
       "      <td>CBR8</td>\n",
       "      <td>CBR-D121-DS-MOD</td>\n",
       "      <td>Q1 FY2022</td>\n",
       "      <td>AUG FY2022</td>\n",
       "      <td>204</td>\n",
       "      <td>01-08-2016</td>\n",
       "      <td>2022</td>\n",
       "      <td>Q1</td>\n",
       "    </tr>\n",
       "    <tr>\n",
       "      <th>1</th>\n",
       "      <td>CSWBU</td>\n",
       "      <td>CBR8</td>\n",
       "      <td>CBR-D121-DS-MOD</td>\n",
       "      <td>Q1 FY2022</td>\n",
       "      <td>OCT FY2022</td>\n",
       "      <td>564</td>\n",
       "      <td>01-10-2016</td>\n",
       "      <td>2022</td>\n",
       "      <td>Q1</td>\n",
       "    </tr>\n",
       "    <tr>\n",
       "      <th>2</th>\n",
       "      <td>CSWBU</td>\n",
       "      <td>CBR8</td>\n",
       "      <td>CBR-D121-DS-MOD</td>\n",
       "      <td>Q1 FY2022</td>\n",
       "      <td>SEP FY2022</td>\n",
       "      <td>1476</td>\n",
       "      <td>01-09-2016</td>\n",
       "      <td>2022</td>\n",
       "      <td>Q1</td>\n",
       "    </tr>\n",
       "    <tr>\n",
       "      <th>3</th>\n",
       "      <td>CSWBU</td>\n",
       "      <td>CBR8</td>\n",
       "      <td>CBR-D121-DS-MOD</td>\n",
       "      <td>Q1 FY2002</td>\n",
       "      <td>AUG FY2002</td>\n",
       "      <td>374</td>\n",
       "      <td>01-08-2017</td>\n",
       "      <td>2002</td>\n",
       "      <td>Q1</td>\n",
       "    </tr>\n",
       "    <tr>\n",
       "      <th>4</th>\n",
       "      <td>CSWBU</td>\n",
       "      <td>CBR8</td>\n",
       "      <td>CBR-D121-DS-MOD</td>\n",
       "      <td>Q1 FY2002</td>\n",
       "      <td>OCT FY2002</td>\n",
       "      <td>6094</td>\n",
       "      <td>01-10-2017</td>\n",
       "      <td>2002</td>\n",
       "      <td>Q1</td>\n",
       "    </tr>\n",
       "  </tbody>\n",
       "</table>\n",
       "</div>"
      ],
      "text/plain": [
       "  Business Unit Product Family             PLID Fiscal Quarter Fiscal Month  \\\n",
       "0         CSWBU           CBR8  CBR-D121-DS-MOD      Q1 FY2022   AUG FY2022   \n",
       "1         CSWBU           CBR8  CBR-D121-DS-MOD      Q1 FY2022   OCT FY2022   \n",
       "2         CSWBU           CBR8  CBR-D121-DS-MOD      Q1 FY2022   SEP FY2022   \n",
       "3         CSWBU           CBR8  CBR-D121-DS-MOD      Q1 FY2002   AUG FY2002   \n",
       "4         CSWBU           CBR8  CBR-D121-DS-MOD      Q1 FY2002   OCT FY2002   \n",
       "\n",
       "   Booked_Qty Booking_Date   f_y   q  \n",
       "0         204   01-08-2016  2022  Q1  \n",
       "1         564   01-10-2016  2022  Q1  \n",
       "2        1476   01-09-2016  2022  Q1  \n",
       "3         374   01-08-2017  2002  Q1  \n",
       "4        6094   01-10-2017  2002  Q1  "
      ]
     },
     "execution_count": 65,
     "metadata": {},
     "output_type": "execute_result"
    }
   ],
   "source": [
    "df.head()"
   ]
  },
  {
   "cell_type": "code",
   "execution_count": 69,
   "id": "84fb1415",
   "metadata": {},
   "outputs": [],
   "source": [
    "df['q'] = df['q'].str.replace('Q','')\n",
    "df['q'] = df['q'].astype('int32')"
   ]
  },
  {
   "cell_type": "code",
   "execution_count": 71,
   "id": "e01b1f68",
   "metadata": {},
   "outputs": [
    {
     "data": {
      "text/html": [
       "<div>\n",
       "<style scoped>\n",
       "    .dataframe tbody tr th:only-of-type {\n",
       "        vertical-align: middle;\n",
       "    }\n",
       "\n",
       "    .dataframe tbody tr th {\n",
       "        vertical-align: top;\n",
       "    }\n",
       "\n",
       "    .dataframe thead th {\n",
       "        text-align: right;\n",
       "    }\n",
       "</style>\n",
       "<table border=\"1\" class=\"dataframe\">\n",
       "  <thead>\n",
       "    <tr style=\"text-align: right;\">\n",
       "      <th></th>\n",
       "      <th>Business Unit</th>\n",
       "      <th>Product Family</th>\n",
       "      <th>PLID</th>\n",
       "      <th>Fiscal Quarter</th>\n",
       "      <th>Fiscal Month</th>\n",
       "      <th>Booked_Qty</th>\n",
       "      <th>Booking_Date</th>\n",
       "      <th>f_y</th>\n",
       "      <th>q</th>\n",
       "    </tr>\n",
       "  </thead>\n",
       "  <tbody>\n",
       "    <tr>\n",
       "      <th>0</th>\n",
       "      <td>CSWBU</td>\n",
       "      <td>CBR8</td>\n",
       "      <td>CBR-D121-DS-MOD</td>\n",
       "      <td>Q1 FY2022</td>\n",
       "      <td>AUG FY2022</td>\n",
       "      <td>204</td>\n",
       "      <td>01-08-2016</td>\n",
       "      <td>2022</td>\n",
       "      <td>1</td>\n",
       "    </tr>\n",
       "    <tr>\n",
       "      <th>1</th>\n",
       "      <td>CSWBU</td>\n",
       "      <td>CBR8</td>\n",
       "      <td>CBR-D121-DS-MOD</td>\n",
       "      <td>Q1 FY2022</td>\n",
       "      <td>OCT FY2022</td>\n",
       "      <td>564</td>\n",
       "      <td>01-10-2016</td>\n",
       "      <td>2022</td>\n",
       "      <td>1</td>\n",
       "    </tr>\n",
       "    <tr>\n",
       "      <th>2</th>\n",
       "      <td>CSWBU</td>\n",
       "      <td>CBR8</td>\n",
       "      <td>CBR-D121-DS-MOD</td>\n",
       "      <td>Q1 FY2022</td>\n",
       "      <td>SEP FY2022</td>\n",
       "      <td>1476</td>\n",
       "      <td>01-09-2016</td>\n",
       "      <td>2022</td>\n",
       "      <td>1</td>\n",
       "    </tr>\n",
       "    <tr>\n",
       "      <th>3</th>\n",
       "      <td>CSWBU</td>\n",
       "      <td>CBR8</td>\n",
       "      <td>CBR-D121-DS-MOD</td>\n",
       "      <td>Q1 FY2002</td>\n",
       "      <td>AUG FY2002</td>\n",
       "      <td>374</td>\n",
       "      <td>01-08-2017</td>\n",
       "      <td>2002</td>\n",
       "      <td>1</td>\n",
       "    </tr>\n",
       "    <tr>\n",
       "      <th>4</th>\n",
       "      <td>CSWBU</td>\n",
       "      <td>CBR8</td>\n",
       "      <td>CBR-D121-DS-MOD</td>\n",
       "      <td>Q1 FY2002</td>\n",
       "      <td>OCT FY2002</td>\n",
       "      <td>6094</td>\n",
       "      <td>01-10-2017</td>\n",
       "      <td>2002</td>\n",
       "      <td>1</td>\n",
       "    </tr>\n",
       "  </tbody>\n",
       "</table>\n",
       "</div>"
      ],
      "text/plain": [
       "  Business Unit Product Family             PLID Fiscal Quarter Fiscal Month  \\\n",
       "0         CSWBU           CBR8  CBR-D121-DS-MOD      Q1 FY2022   AUG FY2022   \n",
       "1         CSWBU           CBR8  CBR-D121-DS-MOD      Q1 FY2022   OCT FY2022   \n",
       "2         CSWBU           CBR8  CBR-D121-DS-MOD      Q1 FY2022   SEP FY2022   \n",
       "3         CSWBU           CBR8  CBR-D121-DS-MOD      Q1 FY2002   AUG FY2002   \n",
       "4         CSWBU           CBR8  CBR-D121-DS-MOD      Q1 FY2002   OCT FY2002   \n",
       "\n",
       "   Booked_Qty Booking_Date   f_y  q  \n",
       "0         204   01-08-2016  2022  1  \n",
       "1         564   01-10-2016  2022  1  \n",
       "2        1476   01-09-2016  2022  1  \n",
       "3         374   01-08-2017  2002  1  \n",
       "4        6094   01-10-2017  2002  1  "
      ]
     },
     "execution_count": 71,
     "metadata": {},
     "output_type": "execute_result"
    }
   ],
   "source": [
    "df.head()\n",
    "# f_y = fiscal year\n",
    "# q = fiscal Quarter"
   ]
  },
  {
   "cell_type": "code",
   "execution_count": 72,
   "id": "8d13e4f2",
   "metadata": {},
   "outputs": [],
   "source": [
    "l1 = df['Fiscal Month'].to_list()"
   ]
  },
  {
   "cell_type": "code",
   "execution_count": 73,
   "id": "55f3114e",
   "metadata": {},
   "outputs": [],
   "source": [
    "ap = []\n",
    "for i in range(0,10996):\n",
    "    match2 = re.findall('^\\w+',l1[i])\n",
    "    ap.append(match2)\n"
   ]
  },
  {
   "cell_type": "code",
   "execution_count": 74,
   "id": "12c18620",
   "metadata": {},
   "outputs": [],
   "source": [
    "flatten_ap = np.reshape(ap,10996)"
   ]
  },
  {
   "cell_type": "code",
   "execution_count": 75,
   "id": "ae3d5a6e",
   "metadata": {},
   "outputs": [
    {
     "data": {
      "text/plain": [
       "array(['AUG', 'OCT', 'SEP', ..., 'JUL', 'JUN', 'MAY'], dtype='<U3')"
      ]
     },
     "execution_count": 75,
     "metadata": {},
     "output_type": "execute_result"
    }
   ],
   "source": [
    "flatten_ap"
   ]
  },
  {
   "cell_type": "code",
   "execution_count": 76,
   "id": "6a72f381",
   "metadata": {},
   "outputs": [],
   "source": [
    "df['fiscal_month'] = flatten_ap"
   ]
  },
  {
   "cell_type": "code",
   "execution_count": 77,
   "id": "6f2851c3",
   "metadata": {},
   "outputs": [
    {
     "data": {
      "text/html": [
       "<div>\n",
       "<style scoped>\n",
       "    .dataframe tbody tr th:only-of-type {\n",
       "        vertical-align: middle;\n",
       "    }\n",
       "\n",
       "    .dataframe tbody tr th {\n",
       "        vertical-align: top;\n",
       "    }\n",
       "\n",
       "    .dataframe thead th {\n",
       "        text-align: right;\n",
       "    }\n",
       "</style>\n",
       "<table border=\"1\" class=\"dataframe\">\n",
       "  <thead>\n",
       "    <tr style=\"text-align: right;\">\n",
       "      <th></th>\n",
       "      <th>Business Unit</th>\n",
       "      <th>Product Family</th>\n",
       "      <th>PLID</th>\n",
       "      <th>Fiscal Quarter</th>\n",
       "      <th>Fiscal Month</th>\n",
       "      <th>Booked_Qty</th>\n",
       "      <th>Booking_Date</th>\n",
       "      <th>f_y</th>\n",
       "      <th>q</th>\n",
       "      <th>fiscal_month</th>\n",
       "    </tr>\n",
       "  </thead>\n",
       "  <tbody>\n",
       "    <tr>\n",
       "      <th>0</th>\n",
       "      <td>CSWBU</td>\n",
       "      <td>CBR8</td>\n",
       "      <td>CBR-D121-DS-MOD</td>\n",
       "      <td>Q1 FY2022</td>\n",
       "      <td>AUG FY2022</td>\n",
       "      <td>204</td>\n",
       "      <td>01-08-2016</td>\n",
       "      <td>2022</td>\n",
       "      <td>1</td>\n",
       "      <td>AUG</td>\n",
       "    </tr>\n",
       "    <tr>\n",
       "      <th>1</th>\n",
       "      <td>CSWBU</td>\n",
       "      <td>CBR8</td>\n",
       "      <td>CBR-D121-DS-MOD</td>\n",
       "      <td>Q1 FY2022</td>\n",
       "      <td>OCT FY2022</td>\n",
       "      <td>564</td>\n",
       "      <td>01-10-2016</td>\n",
       "      <td>2022</td>\n",
       "      <td>1</td>\n",
       "      <td>OCT</td>\n",
       "    </tr>\n",
       "    <tr>\n",
       "      <th>2</th>\n",
       "      <td>CSWBU</td>\n",
       "      <td>CBR8</td>\n",
       "      <td>CBR-D121-DS-MOD</td>\n",
       "      <td>Q1 FY2022</td>\n",
       "      <td>SEP FY2022</td>\n",
       "      <td>1476</td>\n",
       "      <td>01-09-2016</td>\n",
       "      <td>2022</td>\n",
       "      <td>1</td>\n",
       "      <td>SEP</td>\n",
       "    </tr>\n",
       "    <tr>\n",
       "      <th>3</th>\n",
       "      <td>CSWBU</td>\n",
       "      <td>CBR8</td>\n",
       "      <td>CBR-D121-DS-MOD</td>\n",
       "      <td>Q1 FY2002</td>\n",
       "      <td>AUG FY2002</td>\n",
       "      <td>374</td>\n",
       "      <td>01-08-2017</td>\n",
       "      <td>2002</td>\n",
       "      <td>1</td>\n",
       "      <td>AUG</td>\n",
       "    </tr>\n",
       "    <tr>\n",
       "      <th>4</th>\n",
       "      <td>CSWBU</td>\n",
       "      <td>CBR8</td>\n",
       "      <td>CBR-D121-DS-MOD</td>\n",
       "      <td>Q1 FY2002</td>\n",
       "      <td>OCT FY2002</td>\n",
       "      <td>6094</td>\n",
       "      <td>01-10-2017</td>\n",
       "      <td>2002</td>\n",
       "      <td>1</td>\n",
       "      <td>OCT</td>\n",
       "    </tr>\n",
       "  </tbody>\n",
       "</table>\n",
       "</div>"
      ],
      "text/plain": [
       "  Business Unit Product Family             PLID Fiscal Quarter Fiscal Month  \\\n",
       "0         CSWBU           CBR8  CBR-D121-DS-MOD      Q1 FY2022   AUG FY2022   \n",
       "1         CSWBU           CBR8  CBR-D121-DS-MOD      Q1 FY2022   OCT FY2022   \n",
       "2         CSWBU           CBR8  CBR-D121-DS-MOD      Q1 FY2022   SEP FY2022   \n",
       "3         CSWBU           CBR8  CBR-D121-DS-MOD      Q1 FY2002   AUG FY2002   \n",
       "4         CSWBU           CBR8  CBR-D121-DS-MOD      Q1 FY2002   OCT FY2002   \n",
       "\n",
       "   Booked_Qty Booking_Date   f_y  q fiscal_month  \n",
       "0         204   01-08-2016  2022  1          AUG  \n",
       "1         564   01-10-2016  2022  1          OCT  \n",
       "2        1476   01-09-2016  2022  1          SEP  \n",
       "3         374   01-08-2017  2002  1          AUG  \n",
       "4        6094   01-10-2017  2002  1          OCT  "
      ]
     },
     "execution_count": 77,
     "metadata": {},
     "output_type": "execute_result"
    }
   ],
   "source": [
    "df.head()"
   ]
  },
  {
   "cell_type": "code",
   "execution_count": 78,
   "id": "6dff089d",
   "metadata": {},
   "outputs": [],
   "source": [
    "df.drop(['Fiscal Quarter','Fiscal Month'],axis = 1, inplace = True)"
   ]
  },
  {
   "cell_type": "code",
   "execution_count": 79,
   "id": "27f7e8e6",
   "metadata": {},
   "outputs": [
    {
     "data": {
      "text/html": [
       "<div>\n",
       "<style scoped>\n",
       "    .dataframe tbody tr th:only-of-type {\n",
       "        vertical-align: middle;\n",
       "    }\n",
       "\n",
       "    .dataframe tbody tr th {\n",
       "        vertical-align: top;\n",
       "    }\n",
       "\n",
       "    .dataframe thead th {\n",
       "        text-align: right;\n",
       "    }\n",
       "</style>\n",
       "<table border=\"1\" class=\"dataframe\">\n",
       "  <thead>\n",
       "    <tr style=\"text-align: right;\">\n",
       "      <th></th>\n",
       "      <th>Business Unit</th>\n",
       "      <th>Product Family</th>\n",
       "      <th>PLID</th>\n",
       "      <th>Booked_Qty</th>\n",
       "      <th>Booking_Date</th>\n",
       "      <th>f_y</th>\n",
       "      <th>q</th>\n",
       "      <th>fiscal_month</th>\n",
       "    </tr>\n",
       "  </thead>\n",
       "  <tbody>\n",
       "    <tr>\n",
       "      <th>0</th>\n",
       "      <td>CSWBU</td>\n",
       "      <td>CBR8</td>\n",
       "      <td>CBR-D121-DS-MOD</td>\n",
       "      <td>204</td>\n",
       "      <td>01-08-2016</td>\n",
       "      <td>2022</td>\n",
       "      <td>1</td>\n",
       "      <td>AUG</td>\n",
       "    </tr>\n",
       "    <tr>\n",
       "      <th>1</th>\n",
       "      <td>CSWBU</td>\n",
       "      <td>CBR8</td>\n",
       "      <td>CBR-D121-DS-MOD</td>\n",
       "      <td>564</td>\n",
       "      <td>01-10-2016</td>\n",
       "      <td>2022</td>\n",
       "      <td>1</td>\n",
       "      <td>OCT</td>\n",
       "    </tr>\n",
       "    <tr>\n",
       "      <th>2</th>\n",
       "      <td>CSWBU</td>\n",
       "      <td>CBR8</td>\n",
       "      <td>CBR-D121-DS-MOD</td>\n",
       "      <td>1476</td>\n",
       "      <td>01-09-2016</td>\n",
       "      <td>2022</td>\n",
       "      <td>1</td>\n",
       "      <td>SEP</td>\n",
       "    </tr>\n",
       "    <tr>\n",
       "      <th>3</th>\n",
       "      <td>CSWBU</td>\n",
       "      <td>CBR8</td>\n",
       "      <td>CBR-D121-DS-MOD</td>\n",
       "      <td>374</td>\n",
       "      <td>01-08-2017</td>\n",
       "      <td>2002</td>\n",
       "      <td>1</td>\n",
       "      <td>AUG</td>\n",
       "    </tr>\n",
       "    <tr>\n",
       "      <th>4</th>\n",
       "      <td>CSWBU</td>\n",
       "      <td>CBR8</td>\n",
       "      <td>CBR-D121-DS-MOD</td>\n",
       "      <td>6094</td>\n",
       "      <td>01-10-2017</td>\n",
       "      <td>2002</td>\n",
       "      <td>1</td>\n",
       "      <td>OCT</td>\n",
       "    </tr>\n",
       "  </tbody>\n",
       "</table>\n",
       "</div>"
      ],
      "text/plain": [
       "  Business Unit Product Family             PLID  Booked_Qty Booking_Date  \\\n",
       "0         CSWBU           CBR8  CBR-D121-DS-MOD         204   01-08-2016   \n",
       "1         CSWBU           CBR8  CBR-D121-DS-MOD         564   01-10-2016   \n",
       "2         CSWBU           CBR8  CBR-D121-DS-MOD        1476   01-09-2016   \n",
       "3         CSWBU           CBR8  CBR-D121-DS-MOD         374   01-08-2017   \n",
       "4         CSWBU           CBR8  CBR-D121-DS-MOD        6094   01-10-2017   \n",
       "\n",
       "    f_y  q fiscal_month  \n",
       "0  2022  1          AUG  \n",
       "1  2022  1          OCT  \n",
       "2  2022  1          SEP  \n",
       "3  2002  1          AUG  \n",
       "4  2002  1          OCT  "
      ]
     },
     "execution_count": 79,
     "metadata": {},
     "output_type": "execute_result"
    }
   ],
   "source": [
    "df.head()"
   ]
  },
  {
   "cell_type": "code",
   "execution_count": 81,
   "id": "d928f11f",
   "metadata": {},
   "outputs": [
    {
     "data": {
      "text/plain": [
       "<AxesSubplot:xlabel='Booked_Qty', ylabel='Density'>"
      ]
     },
     "execution_count": 81,
     "metadata": {},
     "output_type": "execute_result"
    },
    {
     "data": {
      "image/png": "[encoded data removed]",
      "text/plain": [
       "<Figure size 432x288 with 1 Axes>"
      ]
     },
     "metadata": {
      "needs_background": "light"
     },
     "output_type": "display_data"
    }
   ],
   "source": [
    "sns.distplot(df['Booked_Qty'], color = 'red')"
   ]
  },
  {
   "cell_type": "code",
   "execution_count": 84,
   "id": "5862b62d",
   "metadata": {},
   "outputs": [
    {
     "name": "stderr",
     "output_type": "stream",
     "text": [
      "C:\\Users\\user\\AppData\\Local\\Programs\\Python\\Python310\\lib\\site-packages\\seaborn\\_decorators.py:36: FutureWarning: Pass the following variable as a keyword arg: x. From version 0.12, the only valid positional argument will be `data`, and passing other arguments without an explicit keyword will result in an error or misinterpretation.\n",
      "  warnings.warn(\n"
     ]
    },
    {
     "data": {
      "text/plain": [
       "(array([0, 1, 2, 3, 4, 5, 6, 7, 8]),\n",
       " [Text(0, 0, '2002'),\n",
       "  Text(1, 0, '2007'),\n",
       "  Text(2, 0, '2008'),\n",
       "  Text(3, 0, '2011'),\n",
       "  Text(4, 0, '2012'),\n",
       "  Text(5, 0, '2013'),\n",
       "  Text(6, 0, '2014'),\n",
       "  Text(7, 0, '2015'),\n",
       "  Text(8, 0, '2022')])"
      ]
     },
     "execution_count": 84,
     "metadata": {},
     "output_type": "execute_result"
    },
    {
     "data": {
      "image/png": "[encoded data removed]",
      "text/plain": [
       "<Figure size 720x504 with 1 Axes>"
      ]
     },
     "metadata": {
      "needs_background": "light"
     },
     "output_type": "display_data"
    }
   ],
   "source": [
    "plt.figure(figsize = (10,7))\n",
    "sns.countplot(df['f_y'], palette = 'plasma')\n",
    "plt.xticks(rotation = 'vertical')\n"
   ]
  },
  {
   "cell_type": "code",
   "execution_count": 86,
   "id": "a0fa7b24",
   "metadata": {},
   "outputs": [],
   "source": [
    "df[\"Booking_Date\"]= pd.to_datetime(df[\"Booking_Date\"])"
   ]
  },
  {
   "cell_type": "code",
   "execution_count": 88,
   "id": "ef7b7476",
   "metadata": {
    "collapsed": true
   },
   "outputs": [
    {
     "data": {
      "text/plain": [
       "array([datetime.date(2016, 1, 8), datetime.date(2016, 1, 10),\n",
       "       datetime.date(2016, 1, 9), datetime.date(2017, 1, 8),\n",
       "       datetime.date(2017, 1, 10), datetime.date(2017, 1, 9),\n",
       "       datetime.date(2018, 1, 8), datetime.date(2018, 1, 10),\n",
       "       datetime.date(2018, 1, 9), datetime.date(2019, 1, 8),\n",
       "       datetime.date(2019, 1, 10), datetime.date(2019, 1, 9),\n",
       "       datetime.date(2020, 1, 8), datetime.date(2020, 1, 10),\n",
       "       datetime.date(2020, 1, 9), datetime.date(2021, 1, 8),\n",
       "       datetime.date(2021, 1, 10), datetime.date(2021, 1, 9),\n",
       "       datetime.date(2022, 1, 8), datetime.date(2022, 1, 10),\n",
       "       datetime.date(2022, 1, 9), datetime.date(2016, 1, 12),\n",
       "       datetime.date(2016, 1, 1), datetime.date(2016, 1, 11),\n",
       "       datetime.date(2017, 1, 12), datetime.date(2017, 1, 1),\n",
       "       datetime.date(2017, 1, 11), datetime.date(2018, 1, 12),\n",
       "       datetime.date(2018, 1, 1), datetime.date(2018, 1, 11),\n",
       "       datetime.date(2019, 1, 12), datetime.date(2019, 1, 1),\n",
       "       datetime.date(2019, 1, 11), datetime.date(2020, 1, 12),\n",
       "       datetime.date(2020, 1, 1), datetime.date(2020, 1, 11),\n",
       "       datetime.date(2021, 1, 12), datetime.date(2021, 1, 1),\n",
       "       datetime.date(2021, 1, 11), datetime.date(2022, 1, 12),\n",
       "       datetime.date(2022, 1, 1), datetime.date(2022, 1, 11),\n",
       "       datetime.date(2016, 1, 4), datetime.date(2016, 1, 2),\n",
       "       datetime.date(2016, 1, 3), datetime.date(2017, 1, 4),\n",
       "       datetime.date(2017, 1, 2), datetime.date(2017, 1, 3),\n",
       "       datetime.date(2018, 1, 4), datetime.date(2018, 1, 2),\n",
       "       datetime.date(2018, 1, 3), datetime.date(2019, 1, 4),\n",
       "       datetime.date(2019, 1, 2), datetime.date(2019, 1, 3),\n",
       "       datetime.date(2020, 1, 4), datetime.date(2020, 1, 2),\n",
       "       datetime.date(2020, 1, 3), datetime.date(2021, 1, 4),\n",
       "       datetime.date(2021, 1, 2), datetime.date(2021, 1, 3),\n",
       "       datetime.date(2015, 1, 7), datetime.date(2016, 1, 7),\n",
       "       datetime.date(2016, 1, 6), datetime.date(2016, 1, 5),\n",
       "       datetime.date(2017, 1, 7), datetime.date(2017, 1, 6),\n",
       "       datetime.date(2017, 1, 5), datetime.date(2018, 1, 7),\n",
       "       datetime.date(2018, 1, 6), datetime.date(2018, 1, 5),\n",
       "       datetime.date(2019, 1, 7), datetime.date(2019, 1, 6),\n",
       "       datetime.date(2019, 1, 5), datetime.date(2020, 1, 7),\n",
       "       datetime.date(2020, 1, 6), datetime.date(2020, 1, 5),\n",
       "       datetime.date(2021, 1, 7), datetime.date(2021, 1, 6),\n",
       "       datetime.date(2021, 1, 5), datetime.date(2015, 1, 8),\n",
       "       datetime.date(2015, 1, 10), datetime.date(2015, 1, 9),\n",
       "       datetime.date(2015, 1, 12), datetime.date(2015, 1, 1),\n",
       "       datetime.date(2015, 1, 11), datetime.date(2014, 1, 4),\n",
       "       datetime.date(2014, 1, 3), datetime.date(2015, 1, 4),\n",
       "       datetime.date(2015, 1, 2), datetime.date(2015, 1, 3),\n",
       "       datetime.date(2014, 1, 7), datetime.date(2014, 1, 6),\n",
       "       datetime.date(2014, 1, 5), datetime.date(2015, 1, 6),\n",
       "       datetime.date(2015, 1, 5), datetime.date(2014, 1, 10),\n",
       "       datetime.date(2014, 1, 9), datetime.date(2014, 1, 12),\n",
       "       datetime.date(2014, 1, 1), datetime.date(2014, 1, 11),\n",
       "       datetime.date(2014, 1, 2), datetime.date(2014, 1, 8),\n",
       "       datetime.date(2013, 1, 4), datetime.date(2013, 1, 7),\n",
       "       datetime.date(2013, 1, 6), datetime.date(2013, 1, 5),\n",
       "       datetime.date(2013, 1, 8), datetime.date(2013, 1, 10),\n",
       "       datetime.date(2013, 1, 9), datetime.date(2013, 1, 12),\n",
       "       datetime.date(2013, 1, 1), datetime.date(2013, 1, 11),\n",
       "       datetime.date(2013, 1, 2), datetime.date(2013, 1, 3)], dtype=object)"
      ]
     },
     "execution_count": 88,
     "metadata": {},
     "output_type": "execute_result"
    }
   ],
   "source": [
    "df[\"Booking_Date\"].dt.date.unique()"
   ]
  },
  {
   "cell_type": "code",
   "execution_count": 96,
   "id": "6dc5c9c4",
   "metadata": {},
   "outputs": [
    {
     "data": {
      "text/plain": [
       "array(['CSWBU', 'CPBU', 'CRBU', 'CSA', 'CVEBU', 'EBBU', 'ECBU', 'ERBU',\n",
       "       'QKBU', 'IOTBU', 'NGFWBU', 'OTBU', 'BATBU', 'SRSBU', 'TOASTBU',\n",
       "       'UOPBLRBU', 'UCEBU', 'RTOBU'], dtype=object)"
      ]
     },
     "execution_count": 96,
     "metadata": {},
     "output_type": "execute_result"
    }
   ],
   "source": [
    "df['Business Unit'].unique()"
   ]
  },
  {
   "cell_type": "code",
   "execution_count": 91,
   "id": "5046edab",
   "metadata": {},
   "outputs": [
    {
     "data": {
      "text/html": [
       "<div>\n",
       "<style scoped>\n",
       "    .dataframe tbody tr th:only-of-type {\n",
       "        vertical-align: middle;\n",
       "    }\n",
       "\n",
       "    .dataframe tbody tr th {\n",
       "        vertical-align: top;\n",
       "    }\n",
       "\n",
       "    .dataframe thead th {\n",
       "        text-align: right;\n",
       "    }\n",
       "</style>\n",
       "<table border=\"1\" class=\"dataframe\">\n",
       "  <thead>\n",
       "    <tr style=\"text-align: right;\">\n",
       "      <th></th>\n",
       "      <th>Business Unit</th>\n",
       "      <th>Product Family</th>\n",
       "      <th>PLID</th>\n",
       "      <th>Booked_Qty</th>\n",
       "      <th>Booking_Date</th>\n",
       "      <th>f_y</th>\n",
       "      <th>q</th>\n",
       "      <th>fiscal_month</th>\n",
       "    </tr>\n",
       "  </thead>\n",
       "  <tbody>\n",
       "    <tr>\n",
       "      <th>0</th>\n",
       "      <td>CSWBU</td>\n",
       "      <td>CBR8</td>\n",
       "      <td>CBR-D121-DS-MOD</td>\n",
       "      <td>204</td>\n",
       "      <td>2016-01-08</td>\n",
       "      <td>2022</td>\n",
       "      <td>1</td>\n",
       "      <td>AUG</td>\n",
       "    </tr>\n",
       "    <tr>\n",
       "      <th>1</th>\n",
       "      <td>CSWBU</td>\n",
       "      <td>CBR8</td>\n",
       "      <td>CBR-D121-DS-MOD</td>\n",
       "      <td>564</td>\n",
       "      <td>2016-01-10</td>\n",
       "      <td>2022</td>\n",
       "      <td>1</td>\n",
       "      <td>OCT</td>\n",
       "    </tr>\n",
       "    <tr>\n",
       "      <th>2</th>\n",
       "      <td>CSWBU</td>\n",
       "      <td>CBR8</td>\n",
       "      <td>CBR-D121-DS-MOD</td>\n",
       "      <td>1476</td>\n",
       "      <td>2016-01-09</td>\n",
       "      <td>2022</td>\n",
       "      <td>1</td>\n",
       "      <td>SEP</td>\n",
       "    </tr>\n",
       "    <tr>\n",
       "      <th>3</th>\n",
       "      <td>CSWBU</td>\n",
       "      <td>CBR8</td>\n",
       "      <td>CBR-D121-DS-MOD</td>\n",
       "      <td>374</td>\n",
       "      <td>2017-01-08</td>\n",
       "      <td>2002</td>\n",
       "      <td>1</td>\n",
       "      <td>AUG</td>\n",
       "    </tr>\n",
       "    <tr>\n",
       "      <th>4</th>\n",
       "      <td>CSWBU</td>\n",
       "      <td>CBR8</td>\n",
       "      <td>CBR-D121-DS-MOD</td>\n",
       "      <td>6094</td>\n",
       "      <td>2017-01-10</td>\n",
       "      <td>2002</td>\n",
       "      <td>1</td>\n",
       "      <td>OCT</td>\n",
       "    </tr>\n",
       "    <tr>\n",
       "      <th>...</th>\n",
       "      <td>...</td>\n",
       "      <td>...</td>\n",
       "      <td>...</td>\n",
       "      <td>...</td>\n",
       "      <td>...</td>\n",
       "      <td>...</td>\n",
       "      <td>...</td>\n",
       "      <td>...</td>\n",
       "    </tr>\n",
       "    <tr>\n",
       "      <th>74</th>\n",
       "      <td>CSWBU</td>\n",
       "      <td>CBR8</td>\n",
       "      <td>CBR-D121-DS-MOD</td>\n",
       "      <td>366</td>\n",
       "      <td>2020-01-06</td>\n",
       "      <td>2011</td>\n",
       "      <td>4</td>\n",
       "      <td>JUN</td>\n",
       "    </tr>\n",
       "    <tr>\n",
       "      <th>75</th>\n",
       "      <td>CSWBU</td>\n",
       "      <td>CBR8</td>\n",
       "      <td>CBR-D121-DS-MOD</td>\n",
       "      <td>228</td>\n",
       "      <td>2020-01-05</td>\n",
       "      <td>2011</td>\n",
       "      <td>4</td>\n",
       "      <td>MAY</td>\n",
       "    </tr>\n",
       "    <tr>\n",
       "      <th>76</th>\n",
       "      <td>CSWBU</td>\n",
       "      <td>CBR8</td>\n",
       "      <td>CBR-D121-DS-MOD</td>\n",
       "      <td>220</td>\n",
       "      <td>2021-01-07</td>\n",
       "      <td>2012</td>\n",
       "      <td>4</td>\n",
       "      <td>JUL</td>\n",
       "    </tr>\n",
       "    <tr>\n",
       "      <th>77</th>\n",
       "      <td>CSWBU</td>\n",
       "      <td>CBR8</td>\n",
       "      <td>CBR-D121-DS-MOD</td>\n",
       "      <td>242</td>\n",
       "      <td>2021-01-06</td>\n",
       "      <td>2012</td>\n",
       "      <td>4</td>\n",
       "      <td>JUN</td>\n",
       "    </tr>\n",
       "    <tr>\n",
       "      <th>78</th>\n",
       "      <td>CSWBU</td>\n",
       "      <td>CBR8</td>\n",
       "      <td>CBR-D121-DS-MOD</td>\n",
       "      <td>294</td>\n",
       "      <td>2021-01-05</td>\n",
       "      <td>2012</td>\n",
       "      <td>4</td>\n",
       "      <td>MAY</td>\n",
       "    </tr>\n",
       "  </tbody>\n",
       "</table>\n",
       "<p>79 rows × 8 columns</p>\n",
       "</div>"
      ],
      "text/plain": [
       "   Business Unit Product Family             PLID  Booked_Qty Booking_Date  \\\n",
       "0          CSWBU           CBR8  CBR-D121-DS-MOD         204   2016-01-08   \n",
       "1          CSWBU           CBR8  CBR-D121-DS-MOD         564   2016-01-10   \n",
       "2          CSWBU           CBR8  CBR-D121-DS-MOD        1476   2016-01-09   \n",
       "3          CSWBU           CBR8  CBR-D121-DS-MOD         374   2017-01-08   \n",
       "4          CSWBU           CBR8  CBR-D121-DS-MOD        6094   2017-01-10   \n",
       "..           ...            ...              ...         ...          ...   \n",
       "74         CSWBU           CBR8  CBR-D121-DS-MOD         366   2020-01-06   \n",
       "75         CSWBU           CBR8  CBR-D121-DS-MOD         228   2020-01-05   \n",
       "76         CSWBU           CBR8  CBR-D121-DS-MOD         220   2021-01-07   \n",
       "77         CSWBU           CBR8  CBR-D121-DS-MOD         242   2021-01-06   \n",
       "78         CSWBU           CBR8  CBR-D121-DS-MOD         294   2021-01-05   \n",
       "\n",
       "     f_y  q fiscal_month  \n",
       "0   2022  1          AUG  \n",
       "1   2022  1          OCT  \n",
       "2   2022  1          SEP  \n",
       "3   2002  1          AUG  \n",
       "4   2002  1          OCT  \n",
       "..   ... ..          ...  \n",
       "74  2011  4          JUN  \n",
       "75  2011  4          MAY  \n",
       "76  2012  4          JUL  \n",
       "77  2012  4          JUN  \n",
       "78  2012  4          MAY  \n",
       "\n",
       "[79 rows x 8 columns]"
      ]
     },
     "execution_count": 91,
     "metadata": {},
     "output_type": "execute_result"
    }
   ],
   "source": [
    "df[df['PLID']=='CBR-D121-DS-MOD']"
   ]
  },
  {
   "cell_type": "code",
   "execution_count": 101,
   "id": "953ce586",
   "metadata": {},
   "outputs": [
    {
     "data": {
      "text/plain": [
       "array(['CBR8'], dtype=object)"
      ]
     },
     "execution_count": 101,
     "metadata": {},
     "output_type": "execute_result"
    }
   ],
   "source": [
    "df[df['Business Unit']=='CSWBU']['Product Family'].unique()"
   ]
  },
  {
   "cell_type": "code",
   "execution_count": 97,
   "id": "57c953b7",
   "metadata": {},
   "outputs": [
    {
     "data": {
      "text/plain": [
       "array(['DNAHW'], dtype=object)"
      ]
     },
     "execution_count": 97,
     "metadata": {},
     "output_type": "execute_result"
    }
   ],
   "source": [
    "df[df['Business Unit']=='CPBU']['Product Family'].unique()"
   ]
  },
  {
   "cell_type": "code",
   "execution_count": null,
   "id": "fff5cfed",
   "metadata": {},
   "outputs": [],
   "source": []
  }
 ],
 "metadata": {
  "kernelspec": {
   "display_name": "Python 3 (ipykernel)",
   "language": "python",
   "name": "python3"
  },
  "language_info": {
   "codemirror_mode": {
    "name": "ipython",
    "version": 3
   },
   "file_extension": ".py",
   "mimetype": "text/x-python",
   "name": "python",
   "nbconvert_exporter": "python",
   "pygments_lexer": "ipython3",
   "version": "3.10.1"
  }
 },
 "nbformat": 4,
 "nbformat_minor": 5
}
